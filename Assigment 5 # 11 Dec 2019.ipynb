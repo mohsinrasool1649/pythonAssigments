{
 "cells": [
  {
   "cell_type": "code",
   "execution_count": 41,
   "metadata": {},
   "outputs": [
    {
     "name": "stdout",
     "output_type": "stream",
     "text": [
      "Input a number to compute the factiorial : 4\n",
      "24\n"
     ]
    }
   ],
   "source": [
    "# Calculate the factorial of a number\n",
    "def factorial(a):\n",
    "    if a == 0:\n",
    "        return 1\n",
    "    else:\n",
    "        return a * factorial(a-1)\n",
    "n=int(input(\"Input a number to compute the factiorial : \"))\n",
    "print(factorial(n))\n"
   ]
  },
  {
   "cell_type": "code",
   "execution_count": 40,
   "metadata": {},
   "outputs": [
    {
     "name": "stdout",
     "output_type": "stream",
     "text": [
      "Enter String4\n",
      "Original String :  4\n",
      "No. of Upper case characters :  0\n",
      "No. of Lower case Characters :  0\n"
     ]
    }
   ],
   "source": [
    "#2\n",
    "def string_test(s):\n",
    "    d={\"UPPER_CASE\":0, \"LOWER_CASE\":0}\n",
    "    for c in s:\n",
    "        if c.isupper():\n",
    "               d[\"UPPER_CASE\"]+=1\n",
    "        elif c.islower():\n",
    "               d[\"LOWER_CASE\"]+=1\n",
    "        else:\n",
    "               pass\n",
    "    print (\"Original String : \", s)\n",
    "    print (\"No. of Upper case characters : \", d[\"UPPER_CASE\"])\n",
    "    print (\"No. of Lower case Characters : \", d[\"LOWER_CASE\"])\n",
    "\n",
    "string_test(input(\"Enter String\"))"
   ]
  },
  {
   "cell_type": "code",
   "execution_count": 2,
   "metadata": {},
   "outputs": [
    {
     "name": "stdout",
     "output_type": "stream",
     "text": [
      "[2, 4, 22, 4, 6, 8]\n"
     ]
    }
   ],
   "source": [
    "#3\n",
    "def is_even_num(l):\n",
    "    enum = []\n",
    "    for n in l:\n",
    "        if n % 2 == 0:\n",
    "            enum.append(n)\n",
    "    return enum\n",
    "print(is_even_num([1, 2,1,4,22, 3, 4, 5, 6, 7, 8, 9]))"
   ]
  },
  {
   "cell_type": "code",
   "execution_count": 3,
   "metadata": {},
   "outputs": [
    {
     "name": "stdout",
     "output_type": "stream",
     "text": [
      "Enter string:hahaha\n",
      "The string isn't a palindrome\n"
     ]
    }
   ],
   "source": [
    "#4\n",
    "my_string=input(\"Enter string:\")\n",
    "if(my_string==my_string[::-1]):\n",
    "   print(\"The string is a palindrome\")\n",
    "else:\n",
    "   print(\"The string isn't a palindrome\")"
   ]
  },
  {
   "cell_type": "code",
   "execution_count": 6,
   "metadata": {},
   "outputs": [
    {
     "name": "stdout",
     "output_type": "stream",
     "text": [
      "Enter Number2\n",
      "True\n"
     ]
    }
   ],
   "source": [
    "#5\n",
    "def test_prime(n):\n",
    "    if (n==1):\n",
    "        return False\n",
    "    elif (n==2):\n",
    "        return True;\n",
    "    else:\n",
    "        for x in range(2,n):\n",
    "            if(n % x==0):\n",
    "                return False\n",
    "        return True             \n",
    "print(test_prime(int(input(\"Enter Number\"))))"
   ]
  },
  {
   "cell_type": "code",
   "execution_count": 42,
   "metadata": {},
   "outputs": [
    {
     "name": "stdout",
     "output_type": "stream",
     "text": [
      "Customer Name : mohsin \n",
      "\n",
      "************\n",
      "Item List\n",
      "************\n",
      "Pasta\n",
      "Rice\n",
      "Bread\n",
      "flour\n",
      "Cooking oil\n",
      "Butter\n",
      "Milk\n",
      "Eggs\n",
      "Cheese\n",
      "Yogurt\n",
      "None\n"
     ]
    }
   ],
   "source": [
    "#6\n",
    "def shop(name,*list):\n",
    "    print(\"Customer Name :\",name,\"\\n\")\n",
    "         \n",
    "    print(\"************\\nItem List\\n************\")\n",
    "    for a in list :\n",
    "        print(a)\n",
    "\n",
    "#\"Pasta\",\"Rice\",\"Bread\",\"flour\",\"Cooking oil\",\"Butter\",\"Milk\",\"Eggs\",\"Cheese\",\"Yogurt\"\n",
    "print(shop(\"mohsin\",\"Pasta\",\"Rice\",\"Bread\",\"flour\",\"Cooking oil\",\"Butter\",\"Milk\",\"Eggs\",\"Cheese\",\"Yogurt\"))"
   ]
  },
  {
   "cell_type": "code",
   "execution_count": null,
   "metadata": {},
   "outputs": [],
   "source": []
  },
  {
   "cell_type": "code",
   "execution_count": null,
   "metadata": {},
   "outputs": [],
   "source": []
  }
 ],
 "metadata": {
  "kernelspec": {
   "display_name": "Python 3",
   "language": "python",
   "name": "python3"
  },
  "language_info": {
   "codemirror_mode": {
    "name": "ipython",
    "version": 3
   },
   "file_extension": ".py",
   "mimetype": "text/x-python",
   "name": "python",
   "nbconvert_exporter": "python",
   "pygments_lexer": "ipython3",
   "version": "3.6.5"
  }
 },
 "nbformat": 4,
 "nbformat_minor": 2
}
