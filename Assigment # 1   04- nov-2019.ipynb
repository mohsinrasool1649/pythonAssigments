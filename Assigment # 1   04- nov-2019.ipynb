{
 "cells": [
  {
   "cell_type": "code",
   "execution_count": 1,
   "metadata": {},
   "outputs": [
    {
     "name": "stdout",
     "output_type": "stream",
     "text": [
      "Twinkle, twinkle, little star\n",
      "\t How I wonder what you are! \n",
      "\t\tUp above the world so high, \n",
      "\t\tLike a diamond in the sky. \n",
      "Twinkle, twinkle, little star, \n",
      "\tHow I wonder what you are!\n"
     ]
    }
   ],
   "source": [
    "# 1 String in specific Format\n",
    "print(\n",
    "\"Twinkle, twinkle, little star\"+\n",
    "\"\\n\\t How I wonder what you are! \"+\n",
    "\"\\n\\t\\tUp above the world so high, \"+\n",
    "\"\\n\\t\\tLike a diamond in the sky. \"+\n",
    "\"\\nTwinkle, twinkle, little star, \"+\n",
    "\"\\n\\tHow I wonder what you are!\"\n",
    ")"
   ]
  },
  {
   "cell_type": "code",
   "execution_count": 2,
   "metadata": {},
   "outputs": [
    {
     "name": "stdout",
     "output_type": "stream",
     "text": [
      "3.6.5 |Anaconda, Inc.| (default, Mar 29 2018, 13:32:41) [MSC v.1900 64 bit (AMD64)]\n"
     ]
    }
   ],
   "source": [
    "# 2 get system version number\n",
    "import sys;\n",
    "print (sys.version)"
   ]
  },
  {
   "cell_type": "code",
   "execution_count": 3,
   "metadata": {},
   "outputs": [
    {
     "name": "stdout",
     "output_type": "stream",
     "text": [
      "2019-11-04 12:12:49.833738\n"
     ]
    }
   ],
   "source": [
    "# 3 get Current Date and time\n",
    "import datetime;\n",
    "a = datetime.datetime.now();\n",
    "print (a);"
   ]
  },
  {
   "cell_type": "code",
   "execution_count": 4,
   "metadata": {},
   "outputs": [
    {
     "name": "stdout",
     "output_type": "stream",
     "text": [
      "Enter Radius Value 13\n",
      "530.66\n"
     ]
    }
   ],
   "source": [
    "# 4 Calcuate Radius of Circule\n",
    "radius = input(\"Enter Radius Value \");\n",
    "circule_area = (3.14*int(radius)*int(radius));\n",
    "print (circule_area);"
   ]
  },
  {
   "cell_type": "code",
   "execution_count": 5,
   "metadata": {},
   "outputs": [
    {
     "name": "stdout",
     "output_type": "stream",
     "text": [
      "Enter First Name  Mohsin\n",
      "Enter Last Name  Rasool\n",
      "Full Name :Rasool Mohsin\n"
     ]
    }
   ],
   "source": [
    "# 5 First name and last name \n",
    "fname = input(\"Enter First Name  \");\n",
    "lname = input (\"Enter Last Name  \");\n",
    "print (\"Full Name :\"+lname+ \" \"+ fname);"
   ]
  },
  {
   "cell_type": "code",
   "execution_count": 6,
   "metadata": {},
   "outputs": [
    {
     "name": "stdout",
     "output_type": "stream",
     "text": [
      "Enter 1st number 52\n",
      "Enter 2nd number 41\n",
      "sum of user Inputs values 93\n"
     ]
    }
   ],
   "source": [
    "# 6 Additon of Two numbers\n",
    "val1 = input(\"Enter 1st number \");\n",
    "val2 = input(\"Enter 2nd number \");\n",
    "print (\"sum of user Inputs values \" +str (int(val1)+int(val2)) );"
   ]
  },
  {
   "cell_type": "code",
   "execution_count": null,
   "metadata": {},
   "outputs": [],
   "source": []
  }
 ],
 "metadata": {
  "kernelspec": {
   "display_name": "Python 3",
   "language": "python",
   "name": "python3"
  },
  "language_info": {
   "codemirror_mode": {
    "name": "ipython",
    "version": 3
   },
   "file_extension": ".py",
   "mimetype": "text/x-python",
   "name": "python",
   "nbconvert_exporter": "python",
   "pygments_lexer": "ipython3",
   "version": "3.6.5"
  }
 },
 "nbformat": 4,
 "nbformat_minor": 2
}
