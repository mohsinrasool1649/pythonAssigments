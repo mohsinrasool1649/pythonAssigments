{
 "cells": [
  {
   "cell_type": "code",
   "execution_count": 2,
   "metadata": {},
   "outputs": [
    {
     "name": "stdout",
     "output_type": "stream",
     "text": [
      "********* Create Dictionary **********\n",
      "{'first name': 'mohsin', 'last name ': 'rasool', 'age': '35', 'city': 'karachi'} \n",
      "\n",
      "********* Add key and value in Dictionary ********** \n",
      "{'first name': 'mohsin', 'last name ': 'rasool', 'age': '35', 'city': 'karachi', 'qulification': 'Master'} \n",
      "\n",
      "********* Remove Key Value Dictionary ********** \n",
      "{'first name': 'mohsin', 'last name ': 'rasool', 'age': '35', 'city': 'karachi'}\n"
     ]
    }
   ],
   "source": [
    "# Q1\n",
    "print(\"********* Create Dictionary **********\")\n",
    "mohsin = {\n",
    "    \"first name\":\"mohsin\",\n",
    "    \"last name \" : \"rasool\",\n",
    "    \"age\" : \"35\",\n",
    "    \"city\" :\"karachi\"\n",
    "}\n",
    "print (mohsin,\"\\n\" )\n",
    "\n",
    "print(\"********* Add key and value in Dictionary ********** \")\n",
    "mohsin[\"qulification\"]=\"Master\"\n",
    "\n",
    "print (mohsin,\"\\n\")\n",
    "\n",
    "print(\"********* Remove Key Value Dictionary ********** \")\n",
    "del mohsin[\"qulification\"]\n",
    "\n",
    "print (mohsin)\n"
   ]
  },
  {
   "cell_type": "code",
   "execution_count": 1,
   "metadata": {},
   "outputs": [
    {
     "name": "stdout",
     "output_type": "stream",
     "text": [
      "karachi\n",
      "     country  is  Pakistan\n",
      "     population  is  12\n",
      "     fact  is  big city\n",
      "New Yark\n",
      "     country  is  USA\n",
      "     population  is  15\n",
      "     fact  is  Nice city\n",
      "Dubai\n",
      "     country  is  UAE\n",
      "     population  is  8\n",
      "     fact  is  Greate city\n"
     ]
    }
   ],
   "source": [
    "# 2\n",
    "cities = {\n",
    "    \"karachi\" :{\n",
    "        \"country\":\"Pakistan\",  \n",
    "        \"population\":\"12\",\n",
    "        \"fact\":\"big city\"\n",
    "    },\n",
    "    \"New Yark\" :{\n",
    "        \"country\":\"USA\"  ,\n",
    "        \"population\":\"15\",\n",
    "        \"fact\":\"Nice city\"\n",
    "    },\n",
    "     \"Dubai\" :{\n",
    "        \"country\":\"UAE\"  ,\n",
    "        \"population\":\"8\",\n",
    "        \"fact\":\"Greate city\"\n",
    "    },\n",
    "    \n",
    "}\n",
    "\n",
    "for a,b in cities.items() :\n",
    "        print (a)\n",
    "        for x,y in b.items() :\n",
    "            print(\"    \",x,\" is \",y)"
   ]
  },
  {
   "cell_type": "code",
   "execution_count": 4,
   "metadata": {},
   "outputs": [
    {
     "name": "stdin",
     "output_type": "stream",
     "text": [
      "Enter Age : 3\n"
     ]
    },
    {
     "name": "stdout",
     "output_type": "stream",
     "text": [
      "Your ticket Price is  free\n"
     ]
    }
   ],
   "source": [
    "#3\n",
    "age = int(input(\"Enter Age :\"));\n",
    "discoutn =\"NO\"\n",
    "ticket = { \n",
    "    \"free\" :[1,2,3],\n",
    "    \"$12\":[4,5,6,7,8,9,10,11,12],\n",
    "    \n",
    "}\n",
    "for a,b in ticket.items() :\n",
    "    if age in b :\n",
    "        print (\"Your ticket Price is \",a)\n",
    "        discoutn =\"YES\"\n",
    "        \n",
    "if discoutn == \"NO\" :\n",
    "    print (\"Your ticket Price is \",\"$15\")"
   ]
  },
  {
   "cell_type": "code",
   "execution_count": 5,
   "metadata": {},
   "outputs": [
    {
     "name": "stdout",
     "output_type": "stream",
     "text": [
      "One of my favorite Book is  History of Islam\n"
     ]
    }
   ],
   "source": [
    "#4\n",
    "def favorite_book(title):\n",
    "    print (\"One of my favorite Book is \",title)\n",
    "\n",
    "favorite_book(\"History of Islam\")"
   ]
  },
  {
   "cell_type": "code",
   "execution_count": null,
   "metadata": {},
   "outputs": [],
   "source": [
    "import random\n",
    "a = random.randrange(1, 30)\n",
    "for i in range(3):\n",
    "    b = int (input(\"Enter number\"));\n",
    "    if b==a :\n",
    "        print (\"Wawooo Nice Guess\")\n",
    "        break;\n",
    "    else :\n",
    "        if i < 2 :\n",
    "            print (\" Try again \")\n",
    "        else :  \n",
    "            print (\"Sorry Your have no an Other Chance to guess\")"
   ]
  },
  {
   "cell_type": "code",
   "execution_count": null,
   "metadata": {},
   "outputs": [],
   "source": []
  }
 ],
 "metadata": {
  "kernelspec": {
   "display_name": "Python 3",
   "language": "python",
   "name": "python3"
  },
  "language_info": {
   "codemirror_mode": {
    "name": "ipython",
    "version": 3
   },
   "file_extension": ".py",
   "mimetype": "text/x-python",
   "name": "python",
   "nbconvert_exporter": "python",
   "pygments_lexer": "ipython3",
   "version": "3.7.3"
  }
 },
 "nbformat": 4,
 "nbformat_minor": 4
}
