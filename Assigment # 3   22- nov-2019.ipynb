{
 "cells": [
  {
   "cell_type": "code",
   "execution_count": 19,
   "metadata": {},
   "outputs": [
    {
     "name": "stdout",
     "output_type": "stream",
     "text": [
      "Enter 1st Value 5\n",
      "Enter Oprator /\n",
      "Enter 1st Value2 0\n",
      "Enter value2 Again Must be Greater Then 0 5\n",
      "1.0\n",
      "1.0\n"
     ]
    }
   ],
   "source": [
    "#1 calculator with basic oprations\n",
    "\n",
    "val1= int(input(\"Enter 1st Value \"));\n",
    "valOpration = input(\"Enter Oprator \");\n",
    "val2= int(input(\"Enter 1st Value2 \"));\n",
    "\n",
    "if valOpration == \"+\" :\n",
    "    print(val1+val2)\n",
    "elif  valOpration == \"-\":\n",
    "    print(val1-val2)\n",
    "elif  valOpration == \"*\":\n",
    "    print(val1*val2)    \n",
    "elif  valOpration == \"/\":\n",
    "    if val2 == 0:\n",
    "                val2 = int(input(\"Enter value2 Again Must be Greater Then 0 \"));\n",
    "                print(val1/val2)  \n",
    "    print(val1/val2)  \n",
    "else :\n",
    "    print(\"Sorry\")\n",
    "        "
   ]
  },
  {
   "cell_type": "code",
   "execution_count": 44,
   "metadata": {},
   "outputs": [
    {
     "name": "stdout",
     "output_type": "stream",
     "text": [
      "584\n",
      "125\n"
     ]
    }
   ],
   "source": [
    " a = [\"a\",\"b\",584,\"c\",12.5,\"d\",125,\"e\"];\n",
    "for i in a :\n",
    "    if (isinstance(i, int)):\n",
    "        print(i)\n",
    "\n"
   ]
  },
  {
   "cell_type": "code",
   "execution_count": 46,
   "metadata": {},
   "outputs": [
    {
     "name": "stdout",
     "output_type": "stream",
     "text": [
      "{0: 'a', 1: 'b'}\n",
      "{0: 'a', 1: 'b', 2: 'c'}\n"
     ]
    }
   ],
   "source": [
    "#3 write program to add key in dictionary\n",
    "a = {0:\"a\",1:\"b\"}\n",
    "print(a)\n",
    "a.update({2:\"c\"})\n",
    "print(a)"
   ]
  },
  {
   "cell_type": "code",
   "execution_count": 47,
   "metadata": {},
   "outputs": [
    {
     "name": "stdout",
     "output_type": "stream",
     "text": [
      "12\n"
     ]
    }
   ],
   "source": [
    "# 4write a python program to sum all numeric item in dictionary\n",
    "a = {0:1,1:2,3:4,4:5}\n",
    "print(sum(a.values()))"
   ]
  },
  {
   "cell_type": "code",
   "execution_count": 92,
   "metadata": {},
   "outputs": [
    {
     "name": "stdout",
     "output_type": "stream",
     "text": [
      "[2, 'a', 'g', 'd', 5, 4]\n"
     ]
    }
   ],
   "source": [
    "#5 write a program to identify dublicate values form list\n",
    "a = [\"a\",2,\"e\",\"t\",2,\"f\",\"a\",\"d\",\"a\",\"ea\",\"g\",\"g\",\"h\",\"a\",\"d\",5,8,63,4,6,7,36,49,5,4,96]\n",
    "mydic = {}\n",
    "b = []\n",
    "for i in a:\n",
    "    if i not in mydic :\n",
    "        mydic[i] = 1\n",
    "        \n",
    "    else :\n",
    "        if mydic[i]==1 :\n",
    "            b.append(i) \n",
    "        mydic[i]+=1\n",
    "           \n",
    "print(b)"
   ]
  },
  {
   "cell_type": "code",
   "execution_count": null,
   "metadata": {},
   "outputs": [],
   "source": [
    "# 6 write a program to identify dublicate values form list\n",
    "a = [\"a\",2,\"e\",\"t\",2,\"f\",\"a\",\"d\",\"a\",\"ea\",\"g\",\"g\",\"h\",\"a\",\"d\",5,8,63,4,6,7,36,49,5,4,96]\n",
    "user_val = input(\"enter value\");\n",
    "for i in a :\n",
    "    if i== user_val"
   ]
  },
  {
   "cell_type": "code",
   "execution_count": 12,
   "metadata": {},
   "outputs": [
    {
     "name": "stdout",
     "output_type": "stream",
     "text": [
      "6 Key is not present in the dictionary\n",
      "7 Key is present in the dictionary\n"
     ]
    }
   ],
   "source": [
    "# Write a Python script to check if a given key already exists in a dictionary\n",
    "a = {1: \"a\", 2: \"b\", 3: 5, 4: 9, 5: 2, 7: \"d\"}\n",
    "def is_key_present(x):\n",
    "    if x in a:\n",
    "        print(str(x),'Key is present in the dictionary')\n",
    "    else:\n",
    "        print(str(x),'Key is not present in the dictionary')\n",
    "is_key_present(6)\n",
    "is_key_present(7)"
   ]
  },
  {
   "cell_type": "code",
   "execution_count": null,
   "metadata": {},
   "outputs": [],
   "source": []
  }
 ],
 "metadata": {
  "kernelspec": {
   "display_name": "Python 3",
   "language": "python",
   "name": "python3"
  },
  "language_info": {
   "codemirror_mode": {
    "name": "ipython",
    "version": 3
   },
   "file_extension": ".py",
   "mimetype": "text/x-python",
   "name": "python",
   "nbconvert_exporter": "python",
   "pygments_lexer": "ipython3",
   "version": "3.7.3"
  }
 },
 "nbformat": 4,
 "nbformat_minor": 4
}
