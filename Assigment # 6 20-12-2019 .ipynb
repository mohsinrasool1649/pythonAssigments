{
 "cells": [
  {
   "cell_type": "code",
   "execution_count": null,
   "metadata": {},
   "outputs": [],
   "source": [
    "1.Define Object Oriented Programming Language?\n",
    "Object-oriented language (OOL) is a high-level computer programming language that implements objects and their associated procedures within the programming context to create software programs.\n",
    "Object-oriented language uses an object-oriented programming technique that binds related data and functions into an object and encourages reuse of these objects within the same and other programs.\n",
    "\n",
    "2. List down the Benefits of OOP?\n",
    "Simplicity: software objects model real world objects, so the complexity is reduced and the program structure is very clear; \n",
    "Modularity: each object forms a separate entity whose internal workings are decoupled from other parts of the system; \n",
    "Modifiability: it is easy to make minor changes in the data representation or the procedures in an OO program. Changes inside a class do not affect any other part of a program, since the only public interface that the external world has \n",
    "to a class is through the use of methods; \n",
    "Extensibility: adding new features or responding to changing operating environments can be solved by introducing a few new objects and modifying some existing ones; \n",
    "Maintainability: objects can be maintained separately, making locating and fixing problems easier; \n",
    "Re-usability: objects can be reused in different programs\n",
    "\n",
    "3. Differentiate between function and method?\n",
    "Unlike a function, methods are called on an object.\n",
    "Unlike method which can alter the object’s state, python function doesn’t do this and normally operates on it.\n",
    "\n",
    "4. Define the following terms\n",
    "Class — A blueprint created by a programmer for an object. This defines a set of attributes that will characterize any object that is instantiated from this class.\n",
    "Object — An instance of a class. This is the realized version of the class, where the class is manifested in the program\n",
    "Attribute The attributes are data members where pass the data\n",
    "Behavior The action form fuction is call behavior"
   ]
  },
  {
   "cell_type": "code",
   "execution_count": null,
   "metadata": {},
   "outputs": [],
   "source": [
    "class car(): \n",
    "        def __init__(self, model,color,name):\n",
    "        self.model = model\n",
    "        self.color = color\n",
    "        self.name = name\n",
    "        \n",
    "khyber = car(\"1990\",\"white\",\"suzuki\")\n",
    "mehran = car(\"2008\",\"red\",\"suzuki\")\n",
    "cultus = car(\"2010\",\"white\",\"suzuki\")\n",
    "alto = car(\"2011\",\"white\",\"suzuki\")\n",
    "swift = car(\"2015\",\"white\",\"suzuki\")\n"
   ]
  },
  {
   "cell_type": "code",
   "execution_count": null,
   "metadata": {},
   "outputs": [],
   "source": []
  }
 ],
 "metadata": {
  "kernelspec": {
   "display_name": "Python 3",
   "language": "python",
   "name": "python3"
  },
  "language_info": {
   "codemirror_mode": {
    "name": "ipython",
    "version": 3
   },
   "file_extension": ".py",
   "mimetype": "text/x-python",
   "name": "python",
   "nbconvert_exporter": "python",
   "pygments_lexer": "ipython3",
   "version": "3.7.3"
  }
 },
 "nbformat": 4,
 "nbformat_minor": 4
}
