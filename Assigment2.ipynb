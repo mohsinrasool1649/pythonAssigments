{
 "cells": [
  {
   "cell_type": "code",
   "execution_count": 6,
   "metadata": {},
   "outputs": [
    {
     "name": "stdin",
     "output_type": "stream",
     "text": [
      "Enter Math Number 33\n",
      "Enter English Number 56\n",
      "Enter urdu Studies Number 34\n",
      "Enter islamic Number 24\n",
      "Enter sst Number 43\n"
     ]
    },
    {
     "name": "stdout",
     "output_type": "stream",
     "text": [
      "38.0\n",
      "Grade is Fail\n"
     ]
    }
   ],
   "source": [
    " ## 01   Write a program which takes 5 inputs from user for different subject’s\n",
    "##   marks, total it and generate mark sheet using grades ?\n",
    "math = int(input(\"Enter Math Number\"));\n",
    "english = int(input(\"Enter English Number\"));\n",
    "urdu =int(input(\"Enter urdu Studies Number\"));\n",
    "islamic = int(input(\"Enter islamic Number\"));\n",
    "sst = int(input(\"Enter sst Number\"));\n",
    "obtainMarks = math+english+urdu+islamic+sst;\n",
    "totalMarks = 500;\n",
    "persentage = ((obtainMarks/totalMarks)*100);\n",
    "print (persentage);\n",
    "\n",
    "if persentage >=80 :\n",
    "    print(\"Grade is A\");\n",
    "elif persentage >=70 and  persentage <80 :\n",
    "    print(\"Grade is B\");\n",
    "elif persentage >=60 and  persentage <70 :\n",
    "    print(\"Grade is D\");\n",
    "elif persentage >=50 and  persentage <60 :\n",
    "    print(\"Grade is E\");\n",
    "elif persentage >=40 and  persentage <50 :\n",
    "    print(\"Grade is F\");\n",
    "else :\n",
    "    print(\"Grade is Fail\");\n"
   ]
  },
  {
   "cell_type": "code",
   "execution_count": 10,
   "metadata": {},
   "outputs": [
    {
     "name": "stdin",
     "output_type": "stream",
     "text": [
      "Enter Number 3\n"
     ]
    },
    {
     "name": "stdout",
     "output_type": "stream",
     "text": [
      "You Entered odd number\n"
     ]
    }
   ],
   "source": [
    "## 2  Write a program which take input from user and identify that the given number is even or odd?\n",
    "val = int(input(\"Enter Number\"));\n",
    "find_val = val%2;\n",
    "if find_val== 0:\n",
    "    print(\"Entered Even number\")\n",
    "else :\n",
    "    print(\"You Entered odd number\")\n",
    "        \n"
   ]
  },
  {
   "cell_type": "code",
   "execution_count": 11,
   "metadata": {},
   "outputs": [
    {
     "name": "stdout",
     "output_type": "stream",
     "text": [
      "11\n"
     ]
    }
   ],
   "source": [
    "##3 Write a program which print the length of the list?\n",
    "a = [1, 1, 2, 3, 5, 8, 13, 21, 34, 55, 89]\n",
    "print ( len(a));"
   ]
  },
  {
   "cell_type": "code",
   "execution_count": 12,
   "metadata": {},
   "outputs": [
    {
     "name": "stdout",
     "output_type": "stream",
     "text": [
      "232\n"
     ]
    }
   ],
   "source": [
    "##4 Write a Python program to sum all the numeric items in a list?\n",
    "a = [1, 1, 2, 3, 5, 8, 13, 21, 34, 55, 89]\n",
    "print ( sum(a));"
   ]
  },
  {
   "cell_type": "code",
   "execution_count": 13,
   "metadata": {},
   "outputs": [
    {
     "name": "stdout",
     "output_type": "stream",
     "text": [
      "243\n"
     ]
    }
   ],
   "source": [
    "##5 Write a Python program to get the largest number from a numeric list.\n",
    "a = [1, 1, 2, 3, 243,5, 8, 13, 21, 34, 55, 89]\n",
    "print (max (a));"
   ]
  },
  {
   "cell_type": "code",
   "execution_count": 14,
   "metadata": {},
   "outputs": [
    {
     "name": "stdout",
     "output_type": "stream",
     "text": [
      "1\n",
      "1\n",
      "2\n",
      "3\n"
     ]
    }
   ],
   "source": [
    "## write a program that prints out all the elements of the list that are less than 5.\n",
    "a = [1, 1, 2, 3, 5, 8, 13, 21, 34, 55, 89]\n",
    "for i in a :\n",
    "    if (i<5) :\n",
    "        print(i);"
   ]
  },
  {
   "cell_type": "code",
   "execution_count": null,
   "metadata": {},
   "outputs": [],
   "source": []
  }
 ],
 "metadata": {
  "kernelspec": {
   "display_name": "Python 3",
   "language": "python",
   "name": "python3"
  },
  "language_info": {
   "codemirror_mode": {
    "name": "ipython",
    "version": 3
   },
   "file_extension": ".py",
   "mimetype": "text/x-python",
   "name": "python",
   "nbconvert_exporter": "python",
   "pygments_lexer": "ipython3",
   "version": "3.7.3"
  }
 },
 "nbformat": 4,
 "nbformat_minor": 4
}
